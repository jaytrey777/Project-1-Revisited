{
 "cells": [
  {
   "cell_type": "markdown",
   "id": "e6773a2e",
   "metadata": {},
   "source": [
    "# Task\n",
    "- For this assignment, you will continue revisiting your first project to predict supermarket sales. You will be applying everything you've learned thus far this week to explain how your models made their predictions."
   ]
  },
  {
   "cell_type": "markdown",
   "id": "39751f4a",
   "metadata": {},
   "source": [
    "## Project 1 Revisited - Part 2: Global Explanations\n",
    "## Load Your Saved Joblib File\n",
    "- Create a new notebook for this assignment in your project 1 repository. Name the notebook \"Explaining Models with Shap.ipynb\"\n",
    "- In your notebook, load the contents of your \"best-models.joblib\" file into a variable called \"loaded_joblib.\"\n",
    "- Save each object from the loaded_joblib dictionary as a separate variable in your notebook. (e.g. \"X_train = loaded_joblib['X_train'])"
   ]
  },
  {
   "cell_type": "markdown",
   "id": "527f47df",
   "metadata": {},
   "source": [
    "## Explain your tree-based model with Shap:\n",
    "- Create an X_shap and y_shap variable from your training data (use shap.sample as needed).\n",
    "- Create a model explainer,\n",
    "- Calculate the shap values for your model.\n",
    "- Create a summary plot - with plot_type='bar':\n",
    "  - In a Markdown cell below, display your saved feature importance image (that you used in your README) and compare the most important features according to SHAP vs. your original feature importances.\n",
    "    - Are they the same features in both? If not, what's different?\n",
    "  - Save your bar summary plot figure as a .png file inside your repository (you will need this for the final piece of this assignment - Update Your README).\n",
    "- Create a second summary plot - with plot_type='dot'\n",
    "  - In a markdown cell, interpret the top 3 most important features and how they influence your model's predictions.\n",
    "  - Save your figure as a .png file inside your repository (you will need this for the final piece of this assignment - Update Your README)."
   ]
  },
  {
   "cell_type": "markdown",
   "id": "94eb7404",
   "metadata": {},
   "source": [
    "## Update your README.\n",
    "- Insert your exported figures and corresponding interpretations from above into your README file. You should have:\n",
    "- a summary plot - bar version\n",
    "  - Your comparison of most important features found by shap vs feature importance.\n",
    "- a summary plot - dot version\n",
    "  - Your interpretation of the top 3 most important features and how they influence your model's predictions."
   ]
  },
  {
   "cell_type": "markdown",
   "id": "c0305d79",
   "metadata": {},
   "source": [
    "# Imports"
   ]
  },
  {
   "cell_type": "code",
   "execution_count": 1,
   "id": "416cc0f9",
   "metadata": {},
   "outputs": [],
   "source": [
    "import joblib"
   ]
  },
  {
   "cell_type": "markdown",
   "id": "62c5b944",
   "metadata": {},
   "source": [
    "# Load JobLib File"
   ]
  },
  {
   "cell_type": "code",
   "execution_count": 2,
   "id": "f353bfb5",
   "metadata": {},
   "outputs": [
    {
     "data": {
      "text/plain": [
       "dict_keys(['X_train', 'y_train', 'X_test', 'y_test', 'preprocessor', 'LinearRegression', 'DecisionTreeRegressor'])"
      ]
     },
     "execution_count": 2,
     "metadata": {},
     "output_type": "execute_result"
    }
   ],
   "source": [
    "loaded = joblib.load('Best_Models.joblib')\n",
    "loaded.keys()"
   ]
  },
  {
   "cell_type": "code",
   "execution_count": null,
   "id": "851392c8",
   "metadata": {},
   "outputs": [],
   "source": []
  }
 ],
 "metadata": {
  "kernelspec": {
   "display_name": "Python (dojo-env)",
   "language": "python",
   "name": "dojo-env"
  },
  "language_info": {
   "codemirror_mode": {
    "name": "ipython",
    "version": 3
   },
   "file_extension": ".py",
   "mimetype": "text/x-python",
   "name": "python",
   "nbconvert_exporter": "python",
   "pygments_lexer": "ipython3",
   "version": "3.9.15"
  },
  "toc": {
   "base_numbering": 1,
   "nav_menu": {},
   "number_sections": false,
   "sideBar": true,
   "skip_h1_title": false,
   "title_cell": "Table of Contents",
   "title_sidebar": "Contents",
   "toc_cell": false,
   "toc_position": {},
   "toc_section_display": true,
   "toc_window_display": false
  }
 },
 "nbformat": 4,
 "nbformat_minor": 5
}
